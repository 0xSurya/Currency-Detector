{
  "nbformat": 4,
  "nbformat_minor": 0,
  "metadata": {
    "colab": {
      "name": "Currency",
      "provenance": [],
      "collapsed_sections": []
    },
    "kernelspec": {
      "name": "python3",
      "display_name": "Python 3"
    },
    "language_info": {
      "name": "python"
    },
    "accelerator": "TPU"
  },
  "cells": [
    {
      "cell_type": "code",
      "metadata": {
        "id": "5guwOe8JxyHo"
      },
      "source": [
        "from tensorflow.compat.v1 import ConfigProto\n",
        "from tensorflow.compat.v1 import InteractiveSession\n",
        "\n",
        "config = ConfigProto()\n",
        "config.gpu_options.per_process_gpu_memory_fraction = 0.5\n",
        "config.gpu_options.allow_growth = True\n",
        "session = InteractiveSession(config=config)"
      ],
      "execution_count": null,
      "outputs": []
    },
    {
      "cell_type": "code",
      "metadata": {
        "id": "Ga1GUklSj-Qg"
      },
      "source": [
        "pip install gTTS"
      ],
      "execution_count": null,
      "outputs": []
    },
    {
      "cell_type": "code",
      "metadata": {
        "id": "vFs02eYokEeB",
        "colab": {
          "base_uri": "https://localhost:8080/"
        },
        "outputId": "69c39db5-ad98-4ac6-bb26-5f61c6cd6bb0"
      },
      "source": [
        "pip install split-folders"
      ],
      "execution_count": null,
      "outputs": [
        {
          "output_type": "stream",
          "text": [
            "Collecting split-folders\n",
            "  Downloading https://files.pythonhosted.org/packages/b8/5f/3c2b2f7ea5e047c8cdc3bb00ae582c5438fcdbbedcc23b3cc1c2c7aae642/split_folders-0.4.3-py3-none-any.whl\n",
            "Installing collected packages: split-folders\n",
            "Successfully installed split-folders-0.4.3\n"
          ],
          "name": "stdout"
        }
      ]
    },
    {
      "cell_type": "code",
      "metadata": {
        "colab": {
          "base_uri": "https://localhost:8080/"
        },
        "id": "mPQ8vqTHkFRL",
        "outputId": "a0b66a8c-cb9f-4da2-a013-1766254f60fb"
      },
      "source": [
        "pip install opencv-python"
      ],
      "execution_count": null,
      "outputs": [
        {
          "output_type": "stream",
          "text": [
            "Requirement already satisfied: opencv-python in /usr/local/lib/python3.7/dist-packages (4.1.2.30)\n",
            "Requirement already satisfied: numpy>=1.14.5 in /usr/local/lib/python3.7/dist-packages (from opencv-python) (1.19.5)\n"
          ],
          "name": "stdout"
        }
      ]
    },
    {
      "cell_type": "code",
      "metadata": {
        "id": "mBSisFDrObad"
      },
      "source": [
        "import tensorflow as tf\n",
        "from tensorflow.keras.preprocessing.image import ImageDataGenerator"
      ],
      "execution_count": null,
      "outputs": []
    },
    {
      "cell_type": "code",
      "metadata": {
        "id": "c5fl_3s7ObdQ"
      },
      "source": [
        "train_datagen = ImageDataGenerator(rescale = 1./255,\n",
        "                                   shear_range = 0.2,\n",
        "                                   zoom_range = 0.2,\n",
        "                                   horizontal_flip = True)"
      ],
      "execution_count": null,
      "outputs": []
    },
    {
      "cell_type": "code",
      "metadata": {
        "id": "AWIhkBDcgADO"
      },
      "source": [
        "import splitfolders\n"
      ],
      "execution_count": null,
      "outputs": []
    },
    {
      "cell_type": "code",
      "metadata": {
        "id": "sYdFw4YuqMEd"
      },
      "source": [
        "import matplotlib.pyplot as plt"
      ],
      "execution_count": null,
      "outputs": []
    },
    {
      "cell_type": "code",
      "metadata": {
        "id": "ecA0A78NgAO2"
      },
      "source": [
        "input_folder = '/content/drive/MyDrive/One Size'\n",
        "output = '/content/drive/MyDrive'"
      ],
      "execution_count": null,
      "outputs": []
    },
    {
      "cell_type": "code",
      "metadata": {
        "colab": {
          "base_uri": "https://localhost:8080/"
        },
        "id": "w9vidRl2gAZw",
        "outputId": "ad7a7880-930b-4f75-9034-510eced72589"
      },
      "source": [
        "splitfolders.ratio(input_folder, output=output, seed=42, ratio=(.75,.25))"
      ],
      "execution_count": null,
      "outputs": [
        {
          "output_type": "stream",
          "text": [
            "Copying files: 1232 files [00:15, 78.70 files/s]\n"
          ],
          "name": "stderr"
        }
      ]
    },
    {
      "cell_type": "code",
      "metadata": {
        "colab": {
          "base_uri": "https://localhost:8080/"
        },
        "id": "J1RxZINcObgW",
        "outputId": "f52dc35c-5d2d-4f6b-d272-23b12b5d143e"
      },
      "source": [
        "training_set = train_datagen.flow_from_directory(r'/content/drive/MyDrive/train',\n",
        "                                                 target_size = (224, 224),\n",
        "                                                 batch_size = 32,\n",
        "                                                 class_mode = 'categorical')"
      ],
      "execution_count": null,
      "outputs": [
        {
          "output_type": "stream",
          "text": [
            "Found 917 images belonging to 13 classes.\n"
          ],
          "name": "stdout"
        }
      ]
    },
    {
      "cell_type": "code",
      "metadata": {
        "colab": {
          "base_uri": "https://localhost:8080/"
        },
        "id": "ZjT2H0gxObkA",
        "outputId": "6e3d4e6a-7366-4b15-9e95-3985a797a749"
      },
      "source": [
        "test_datagen = ImageDataGenerator(rescale = 1./255)\n",
        "test_set = test_datagen.flow_from_directory(r'/content/drive/MyDrive/val',\n",
        "                                            target_size = (224, 224),\n",
        "                                            batch_size = 32,\n",
        "                                            class_mode = 'categorical')"
      ],
      "execution_count": null,
      "outputs": [
        {
          "output_type": "stream",
          "text": [
            "Found 314 images belonging to 13 classes.\n"
          ],
          "name": "stdout"
        }
      ]
    },
    {
      "cell_type": "code",
      "metadata": {
        "id": "mhpBJytGObm9"
      },
      "source": [
        "# Part 2 - Building the CNN\n",
        "\n",
        "# Initialising the CNN\n",
        "cnn = tf.keras.models.Sequential()\n",
        "\n",
        "# Step 1 - Convolution\n",
        "cnn.add(tf.keras.layers.Conv2D(filters=32,padding=\"same\",kernel_size=3, activation='relu', input_shape=[224, 224, 3]))\n",
        "\n",
        "# Step 2 - Pooling\n",
        "cnn.add(tf.keras.layers.MaxPool2D(pool_size=2, strides=2))\n",
        "\n",
        "# Adding a second convolutional layer\n",
        "cnn.add(tf.keras.layers.Conv2D(filters=32,padding='same',kernel_size=3, activation='relu'))\n",
        "cnn.add(tf.keras.layers.MaxPool2D(pool_size=2, strides=2))\n",
        "\n",
        "# Step 3 - Flattening\n",
        "cnn.add(tf.keras.layers.Flatten())\n",
        "\n",
        "# Step 4 - Full Connection\n",
        "cnn.add(tf.keras.layers.Dense(units=192, activation='relu'))\n",
        "cnn.add(tf.keras.layers.Dense(units=160, activation='relu'))\n",
        "cnn.add(tf.keras.layers.Dense(units=128, activation='relu'))\n",
        "cnn.add(tf.keras.layers.Dense(units=96, activation='relu'))\n",
        "cnn.add(tf.keras.layers.Dense(units=64, activation='relu'))\n",
        "cnn.add(tf.keras.layers.Dense(units=32, activation='relu'))\n",
        "# Step 5 - Output Layer\n",
        "cnn.add(tf.keras.layers.Dense(units=13, activation='softmax'))"
      ],
      "execution_count": null,
      "outputs": []
    },
    {
      "cell_type": "code",
      "metadata": {
        "colab": {
          "base_uri": "https://localhost:8080/"
        },
        "id": "ztcEPoZbObpI",
        "outputId": "75d97efe-ff3c-4762-fba9-2a13fb56ef12"
      },
      "source": [
        "cnn.summary()"
      ],
      "execution_count": null,
      "outputs": [
        {
          "output_type": "stream",
          "text": [
            "Model: \"sequential\"\n",
            "_________________________________________________________________\n",
            "Layer (type)                 Output Shape              Param #   \n",
            "=================================================================\n",
            "conv2d (Conv2D)              (None, 224, 224, 32)      896       \n",
            "_________________________________________________________________\n",
            "max_pooling2d (MaxPooling2D) (None, 112, 112, 32)      0         \n",
            "_________________________________________________________________\n",
            "conv2d_1 (Conv2D)            (None, 112, 112, 32)      9248      \n",
            "_________________________________________________________________\n",
            "max_pooling2d_1 (MaxPooling2 (None, 56, 56, 32)        0         \n",
            "_________________________________________________________________\n",
            "flatten (Flatten)            (None, 100352)            0         \n",
            "_________________________________________________________________\n",
            "dense (Dense)                (None, 192)               19267776  \n",
            "_________________________________________________________________\n",
            "dense_1 (Dense)              (None, 160)               30880     \n",
            "_________________________________________________________________\n",
            "dense_2 (Dense)              (None, 128)               20608     \n",
            "_________________________________________________________________\n",
            "dense_3 (Dense)              (None, 96)                12384     \n",
            "_________________________________________________________________\n",
            "dense_4 (Dense)              (None, 64)                6208      \n",
            "_________________________________________________________________\n",
            "dense_5 (Dense)              (None, 32)                2080      \n",
            "_________________________________________________________________\n",
            "dense_6 (Dense)              (None, 13)                429       \n",
            "=================================================================\n",
            "Total params: 19,350,509\n",
            "Trainable params: 19,350,509\n",
            "Non-trainable params: 0\n",
            "_________________________________________________________________\n"
          ],
          "name": "stdout"
        }
      ]
    },
    {
      "cell_type": "code",
      "metadata": {
        "colab": {
          "base_uri": "https://localhost:8080/"
        },
        "id": "n-TQPuIzRpZz",
        "outputId": "5b2cc807-581f-4c9a-b9ce-c764a0a152bc"
      },
      "source": [
        "cnn.compile(optimizer = 'adam', loss = 'categorical_crossentropy', metrics = ['accuracy'])\n",
        "\n",
        "# Training the CNN on the Training set and evaluating it on the Test set\n",
        "history = cnn.fit(x = training_set, validation_data = test_set, epochs = 50)"
      ],
      "execution_count": null,
      "outputs": [
        {
          "output_type": "stream",
          "text": [
            "Epoch 1/50\n",
            "29/29 [==============================] - 311s 11s/step - loss: 2.6718 - accuracy: 0.0916 - val_loss: 2.4873 - val_accuracy: 0.1338\n",
            "Epoch 2/50\n",
            "29/29 [==============================] - 64s 2s/step - loss: 2.4181 - accuracy: 0.1216 - val_loss: 2.2329 - val_accuracy: 0.1561\n",
            "Epoch 3/50\n",
            "29/29 [==============================] - 64s 2s/step - loss: 2.1955 - accuracy: 0.1751 - val_loss: 2.0040 - val_accuracy: 0.2771\n",
            "Epoch 4/50\n",
            "29/29 [==============================] - 65s 2s/step - loss: 1.9571 - accuracy: 0.2973 - val_loss: 1.8256 - val_accuracy: 0.3694\n",
            "Epoch 5/50\n",
            "29/29 [==============================] - 65s 2s/step - loss: 1.7691 - accuracy: 0.3526 - val_loss: 1.5947 - val_accuracy: 0.3949\n",
            "Epoch 6/50\n",
            "29/29 [==============================] - 65s 2s/step - loss: 1.6485 - accuracy: 0.4014 - val_loss: 1.4834 - val_accuracy: 0.4299\n",
            "Epoch 7/50\n",
            "29/29 [==============================] - 65s 2s/step - loss: 1.4290 - accuracy: 0.4216 - val_loss: 1.1615 - val_accuracy: 0.5669\n",
            "Epoch 8/50\n",
            "29/29 [==============================] - 64s 2s/step - loss: 1.1313 - accuracy: 0.5773 - val_loss: 1.1521 - val_accuracy: 0.5637\n",
            "Epoch 9/50\n",
            "29/29 [==============================] - 64s 2s/step - loss: 1.0010 - accuracy: 0.6245 - val_loss: 1.0820 - val_accuracy: 0.5669\n",
            "Epoch 10/50\n",
            "29/29 [==============================] - 64s 2s/step - loss: 0.9299 - accuracy: 0.6226 - val_loss: 0.8785 - val_accuracy: 0.6783\n",
            "Epoch 11/50\n",
            "29/29 [==============================] - 63s 2s/step - loss: 0.8840 - accuracy: 0.6660 - val_loss: 0.9400 - val_accuracy: 0.6752\n",
            "Epoch 12/50\n",
            "29/29 [==============================] - 63s 2s/step - loss: 0.8488 - accuracy: 0.6945 - val_loss: 0.8366 - val_accuracy: 0.7357\n",
            "Epoch 13/50\n",
            "29/29 [==============================] - 63s 2s/step - loss: 0.7092 - accuracy: 0.7313 - val_loss: 0.8063 - val_accuracy: 0.7357\n",
            "Epoch 14/50\n",
            "29/29 [==============================] - 63s 2s/step - loss: 0.6352 - accuracy: 0.7935 - val_loss: 0.7930 - val_accuracy: 0.7389\n",
            "Epoch 15/50\n",
            "29/29 [==============================] - 63s 2s/step - loss: 0.6758 - accuracy: 0.7502 - val_loss: 0.7929 - val_accuracy: 0.7420\n",
            "Epoch 16/50\n",
            "29/29 [==============================] - 63s 2s/step - loss: 0.4273 - accuracy: 0.8407 - val_loss: 0.7255 - val_accuracy: 0.7866\n",
            "Epoch 17/50\n",
            "29/29 [==============================] - 63s 2s/step - loss: 0.4606 - accuracy: 0.8431 - val_loss: 0.8139 - val_accuracy: 0.7611\n",
            "Epoch 18/50\n",
            "29/29 [==============================] - 63s 2s/step - loss: 0.4660 - accuracy: 0.8301 - val_loss: 0.8873 - val_accuracy: 0.7580\n",
            "Epoch 19/50\n",
            "29/29 [==============================] - 63s 2s/step - loss: 0.3846 - accuracy: 0.8389 - val_loss: 0.7203 - val_accuracy: 0.7389\n",
            "Epoch 20/50\n",
            "29/29 [==============================] - 63s 2s/step - loss: 0.3764 - accuracy: 0.8534 - val_loss: 0.7224 - val_accuracy: 0.7962\n",
            "Epoch 21/50\n",
            "29/29 [==============================] - 63s 2s/step - loss: 0.3010 - accuracy: 0.8845 - val_loss: 0.7934 - val_accuracy: 0.7962\n",
            "Epoch 22/50\n",
            "29/29 [==============================] - 63s 2s/step - loss: 0.3456 - accuracy: 0.8893 - val_loss: 0.8834 - val_accuracy: 0.7771\n",
            "Epoch 23/50\n",
            "29/29 [==============================] - 63s 2s/step - loss: 0.3758 - accuracy: 0.8851 - val_loss: 0.6503 - val_accuracy: 0.8248\n",
            "Epoch 24/50\n",
            "29/29 [==============================] - 63s 2s/step - loss: 0.2577 - accuracy: 0.9051 - val_loss: 0.7290 - val_accuracy: 0.8280\n",
            "Epoch 25/50\n",
            "29/29 [==============================] - 63s 2s/step - loss: 0.1999 - accuracy: 0.9308 - val_loss: 0.6617 - val_accuracy: 0.8535\n",
            "Epoch 26/50\n",
            "29/29 [==============================] - 63s 2s/step - loss: 0.1917 - accuracy: 0.9256 - val_loss: 0.5428 - val_accuracy: 0.8662\n",
            "Epoch 27/50\n",
            "29/29 [==============================] - 63s 2s/step - loss: 0.2308 - accuracy: 0.9290 - val_loss: 0.8032 - val_accuracy: 0.8280\n",
            "Epoch 28/50\n",
            "29/29 [==============================] - 63s 2s/step - loss: 0.2141 - accuracy: 0.9198 - val_loss: 0.7759 - val_accuracy: 0.8344\n",
            "Epoch 29/50\n",
            "29/29 [==============================] - 63s 2s/step - loss: 0.1912 - accuracy: 0.9193 - val_loss: 0.7614 - val_accuracy: 0.8535\n",
            "Epoch 30/50\n",
            "29/29 [==============================] - 63s 2s/step - loss: 0.1543 - accuracy: 0.9366 - val_loss: 0.5885 - val_accuracy: 0.8471\n",
            "Epoch 31/50\n",
            "29/29 [==============================] - 64s 2s/step - loss: 0.2126 - accuracy: 0.9254 - val_loss: 0.8528 - val_accuracy: 0.8185\n",
            "Epoch 32/50\n",
            "29/29 [==============================] - 63s 2s/step - loss: 0.2348 - accuracy: 0.9248 - val_loss: 0.7217 - val_accuracy: 0.8408\n",
            "Epoch 33/50\n",
            "29/29 [==============================] - 63s 2s/step - loss: 0.1690 - accuracy: 0.9488 - val_loss: 0.6360 - val_accuracy: 0.8662\n",
            "Epoch 34/50\n",
            "29/29 [==============================] - 63s 2s/step - loss: 0.1388 - accuracy: 0.9570 - val_loss: 0.9261 - val_accuracy: 0.8217\n",
            "Epoch 35/50\n",
            "29/29 [==============================] - 64s 2s/step - loss: 0.1536 - accuracy: 0.9415 - val_loss: 0.6686 - val_accuracy: 0.8567\n",
            "Epoch 36/50\n",
            "29/29 [==============================] - 64s 2s/step - loss: 0.1127 - accuracy: 0.9572 - val_loss: 0.6650 - val_accuracy: 0.8822\n",
            "Epoch 37/50\n",
            "29/29 [==============================] - 63s 2s/step - loss: 0.1188 - accuracy: 0.9462 - val_loss: 0.7648 - val_accuracy: 0.8376\n",
            "Epoch 38/50\n",
            "29/29 [==============================] - 63s 2s/step - loss: 0.2021 - accuracy: 0.9102 - val_loss: 0.6107 - val_accuracy: 0.8567\n",
            "Epoch 39/50\n",
            "29/29 [==============================] - 69s 2s/step - loss: 0.1478 - accuracy: 0.9456 - val_loss: 0.7361 - val_accuracy: 0.8567\n",
            "Epoch 40/50\n",
            "29/29 [==============================] - 63s 2s/step - loss: 0.1445 - accuracy: 0.9514 - val_loss: 0.6057 - val_accuracy: 0.8503\n",
            "Epoch 41/50\n",
            "29/29 [==============================] - 64s 2s/step - loss: 0.2199 - accuracy: 0.9286 - val_loss: 0.5554 - val_accuracy: 0.8471\n",
            "Epoch 42/50\n",
            "29/29 [==============================] - 64s 2s/step - loss: 0.1578 - accuracy: 0.9566 - val_loss: 0.6273 - val_accuracy: 0.8567\n",
            "Epoch 43/50\n",
            "29/29 [==============================] - 64s 2s/step - loss: 0.1464 - accuracy: 0.9473 - val_loss: 0.5151 - val_accuracy: 0.8885\n",
            "Epoch 44/50\n",
            "29/29 [==============================] - 64s 2s/step - loss: 0.0945 - accuracy: 0.9615 - val_loss: 0.7345 - val_accuracy: 0.8726\n",
            "Epoch 45/50\n",
            "29/29 [==============================] - 64s 2s/step - loss: 0.0872 - accuracy: 0.9633 - val_loss: 0.6921 - val_accuracy: 0.8726\n",
            "Epoch 46/50\n",
            "29/29 [==============================] - 64s 2s/step - loss: 0.0806 - accuracy: 0.9691 - val_loss: 0.7769 - val_accuracy: 0.8631\n",
            "Epoch 47/50\n",
            "29/29 [==============================] - 64s 2s/step - loss: 0.1561 - accuracy: 0.9472 - val_loss: 0.5929 - val_accuracy: 0.8758\n",
            "Epoch 48/50\n",
            "29/29 [==============================] - 63s 2s/step - loss: 0.1496 - accuracy: 0.9444 - val_loss: 1.0637 - val_accuracy: 0.8057\n",
            "Epoch 49/50\n",
            "29/29 [==============================] - 63s 2s/step - loss: 0.3466 - accuracy: 0.8934 - val_loss: 0.8439 - val_accuracy: 0.8599\n",
            "Epoch 50/50\n",
            "29/29 [==============================] - 63s 2s/step - loss: 0.2511 - accuracy: 0.9274 - val_loss: 0.6666 - val_accuracy: 0.8471\n"
          ],
          "name": "stdout"
        }
      ]
    },
    {
      "cell_type": "code",
      "metadata": {
        "id": "DaNmMvclRpdJ"
      },
      "source": [
        "from tensorflow.keras.models import load_model\n",
        "\n",
        "cnn.save('Currency_Recognition.h5')"
      ],
      "execution_count": null,
      "outputs": []
    },
    {
      "cell_type": "code",
      "metadata": {
        "id": "jeWDWWJLhmqg"
      },
      "source": [
        "converter = tf.lite.TFLiteConverter.from_keras_model(cnn)\n",
        "converter.optimizations = [tf.lite.Optimize.DEFAULT]\n",
        "\n",
        "tflite_model_quant = converter.convert()"
      ],
      "execution_count": null,
      "outputs": []
    },
    {
      "cell_type": "code",
      "metadata": {
        "colab": {
          "base_uri": "https://localhost:8080/"
        },
        "id": "k-nL5L57bNs-",
        "outputId": "95defd46-b233-426f-ae9a-872459614f80"
      },
      "source": [
        "import pathlib\n",
        "\n",
        "tflite_models_dir = pathlib.Path(\"/content\")\n",
        "tflite_models_dir.mkdir(exist_ok=True, parents=True)\n",
        "\n",
        "# Save the unquantized/float model:\n",
        "tflite_model_file = tflite_models_dir/\"mnist_model.tflite\"\n",
        "tflite_model_file.write_bytes(tflite_model)\n",
        "# Save the quantized model:\n",
        "tflite_model_quant_file = tflite_models_dir/\"mnist_model_quant.tflite\"\n",
        "tflite_model_quant_file.write_bytes(tflite_model_quant)"
      ],
      "execution_count": null,
      "outputs": [
        {
          "output_type": "execute_result",
          "data": {
            "text/plain": [
              "19362928"
            ]
          },
          "metadata": {
            "tags": []
          },
          "execution_count": 29
        }
      ]
    },
    {
      "cell_type": "code",
      "metadata": {
        "id": "wTZ_0RChRpg0"
      },
      "source": [
        "from tensorflow.keras.models import load_model\n",
        "\n",
        "model = load_model('Currency_Recognition.h5')"
      ],
      "execution_count": null,
      "outputs": []
    },
    {
      "cell_type": "code",
      "metadata": {
        "colab": {
          "base_uri": "https://localhost:8080/"
        },
        "id": "Mbbde4KiurDN",
        "outputId": "aee62b04-b67b-4f30-d657-fbab89c7889d"
      },
      "source": [
        "model.summary()"
      ],
      "execution_count": null,
      "outputs": [
        {
          "output_type": "stream",
          "text": [
            "Model: \"sequential_2\"\n",
            "_________________________________________________________________\n",
            "Layer (type)                 Output Shape              Param #   \n",
            "=================================================================\n",
            "conv2d_4 (Conv2D)            (None, 224, 224, 32)      896       \n",
            "_________________________________________________________________\n",
            "max_pooling2d_4 (MaxPooling2 (None, 112, 112, 32)      0         \n",
            "_________________________________________________________________\n",
            "conv2d_5 (Conv2D)            (None, 112, 112, 32)      9248      \n",
            "_________________________________________________________________\n",
            "max_pooling2d_5 (MaxPooling2 (None, 56, 56, 32)        0         \n",
            "_________________________________________________________________\n",
            "flatten_2 (Flatten)          (None, 100352)            0         \n",
            "_________________________________________________________________\n",
            "dense_15 (Dense)             (None, 224)               22479072  \n",
            "_________________________________________________________________\n",
            "dense_16 (Dense)             (None, 192)               43200     \n",
            "_________________________________________________________________\n",
            "dense_17 (Dense)             (None, 160)               30880     \n",
            "_________________________________________________________________\n",
            "dense_18 (Dense)             (None, 128)               20608     \n",
            "_________________________________________________________________\n",
            "dense_19 (Dense)             (None, 96)                12384     \n",
            "_________________________________________________________________\n",
            "dense_20 (Dense)             (None, 64)                6208      \n",
            "_________________________________________________________________\n",
            "dense_21 (Dense)             (None, 32)                2080      \n",
            "_________________________________________________________________\n",
            "dense_22 (Dense)             (None, 13)                429       \n",
            "=================================================================\n",
            "Total params: 22,605,005\n",
            "Trainable params: 22,605,005\n",
            "Non-trainable params: 0\n",
            "_________________________________________________________________\n"
          ],
          "name": "stdout"
        }
      ]
    },
    {
      "cell_type": "code",
      "metadata": {
        "id": "LZTZ19piqTzZ",
        "colab": {
          "base_uri": "https://localhost:8080/",
          "height": 499
        },
        "outputId": "42925474-dc28-482f-9de7-92940585dc2a"
      },
      "source": [
        "acc = history.history['accuracy']\n",
        "val_acc = history.history['val_accuracy']\n",
        "\n",
        "loss = history.history['loss']\n",
        "val_loss = history.history['val_loss']\n",
        "\n",
        "epochs_range = range(50)\n",
        "\n",
        "plt.figure(figsize=(8, 8))\n",
        "plt.subplot(1, 2, 1)\n",
        "plt.plot(epochs_range, acc, label='Training Accuracy')\n",
        "plt.plot(epochs_range, val_acc, label='Validation Accuracy')\n",
        "plt.legend(loc='lower right')\n",
        "plt.title('Training and Validation Accuracy')\n",
        "\n",
        "plt.subplot(1, 2, 2)\n",
        "plt.plot(epochs_range, loss, label='Training Loss')\n",
        "plt.plot(epochs_range, val_loss, label='Validation Loss')\n",
        "plt.legend(loc='upper right')\n",
        "plt.title('Training and Validation Loss')\n",
        "plt.show()"
      ],
      "execution_count": null,
      "outputs": [
        {
          "output_type": "display_data",
          "data": {
            "image/png": "[encoded data removed]",
            "text/plain": [
              "<Figure size 576x576 with 2 Axes>"
            ]
          },
          "metadata": {
            "tags": [],
            "needs_background": "light"
          }
        }
      ]
    }
  ]
}